{
  "nbformat": 4,
  "nbformat_minor": 0,
  "metadata": {
    "colab": {
      "provenance": [],
      "authorship_tag": "ABX9TyP8DNuWUf7O47Hv2Lol4vlS",
      "include_colab_link": true
    },
    "kernelspec": {
      "name": "python3",
      "display_name": "Python 3"
    },
    "language_info": {
      "name": "python"
    }
  },
  "cells": [
    {
      "cell_type": "markdown",
      "metadata": {
        "id": "view-in-github",
        "colab_type": "text"
      },
      "source": [
        "<a href=\"https://colab.research.google.com/github/yaswanthkillampalli/cyber-threat-prediction/blob/main/data_analysis.ipynb\" target=\"_parent\"><img src=\"https://colab.research.google.com/assets/colab-badge.svg\" alt=\"Open In Colab\"/></a>"
      ]
    },
    {
      "cell_type": "markdown",
      "source": [
        "**Importing Necessary Modules**"
      ],
      "metadata": {
        "id": "4YdFg_b8Ub0x"
      }
    },
    {
      "cell_type": "code",
      "source": [
        "import sqlite3\n",
        "import pandas as pd"
      ],
      "metadata": {
        "id": "sKxg1SYfUbqA"
      },
      "execution_count": 1,
      "outputs": []
    },
    {
      "cell_type": "markdown",
      "source": [
        "**Load dataset from the generated CS**"
      ],
      "metadata": {
        "id": "2EwDe1ZkUkhA"
      }
    },
    {
      "cell_type": "code",
      "source": [
        "try:\n",
        "    df = pd.read_csv('/content/synthetic_ecommerce_orders.csv')\n",
        "except FileNotFoundError:\n",
        "    print(\"Please run the data generation script first to create 'synthetic_ecommerce_orders.csv'\")\n",
        "    exit()"
      ],
      "metadata": {
        "id": "JKcQqrm_UhVQ"
      },
      "execution_count": 2,
      "outputs": []
    },
    {
      "cell_type": "markdown",
      "source": [
        "**Create SQLite connection (in-memory database)**"
      ],
      "metadata": {
        "id": "p9Mik9GxUx0B"
      }
    },
    {
      "cell_type": "code",
      "source": [
        "conn = sqlite3.connect(\":memory:\")"
      ],
      "metadata": {
        "id": "O4RyzmkvUza4"
      },
      "execution_count": 3,
      "outputs": []
    },
    {
      "cell_type": "markdown",
      "source": [
        "**Write dataframe to SQL table**"
      ],
      "metadata": {
        "id": "Jg_7ZwHBU1XI"
      }
    },
    {
      "cell_type": "code",
      "source": [
        "df.to_sql(\"orders\", conn, index=False, if_exists=\"replace\")"
      ],
      "metadata": {
        "colab": {
          "base_uri": "https://localhost:8080/"
        },
        "id": "DIQhh6qUU3fx",
        "outputId": "5d3539b9-0cd0-4043-cb06-3dbe12cf1e4f"
      },
      "execution_count": 4,
      "outputs": [
        {
          "output_type": "execute_result",
          "data": {
            "text/plain": [
              "5500"
            ]
          },
          "metadata": {},
          "execution_count": 4
        }
      ]
    },
    {
      "cell_type": "markdown",
      "source": [
        "**Remove duplicate order entries based on OrderID**"
      ],
      "metadata": {
        "id": "dTYVYbT6U53J"
      }
    },
    {
      "cell_type": "code",
      "source": [
        "print(\"--- Prompt 1: Removing duplicate order entries ---\")\n",
        "# Create a new table with unique orders, keeping the first one found\n",
        "query_1 = \"\"\"\n",
        "CREATE TABLE orders_cleaned AS\n",
        "SELECT * FROM (\n",
        "    SELECT *,\n",
        "           ROW_NUMBER() OVER(PARTITION BY OrderID ORDER BY OrderDate, OrderTime) as rn\n",
        "    FROM orders\n",
        ")\n",
        "WHERE rn = 1;\n",
        "\"\"\"\n",
        "conn.execute(query_1)\n",
        "df_1 = pd.read_sql_query(\"SELECT COUNT(*) as original_rows FROM orders;\", conn)\n",
        "df_1_cleaned = pd.read_sql_query(\"SELECT COUNT(*) as cleaned_rows FROM orders_cleaned;\", conn)\n",
        "print(\"Original row count:\", df_1.iloc[0,0])\n",
        "print(\"Cleaned row count:\", df_1_cleaned.iloc[0,0])\n",
        "print(\"\\n\" + \"=\"*50 + \"\\n\")"
      ],
      "metadata": {
        "colab": {
          "base_uri": "https://localhost:8080/"
        },
        "id": "nxoS4p8rVAER",
        "outputId": "25348ad4-f205-480f-dc13-bedc0456d802"
      },
      "execution_count": 5,
      "outputs": [
        {
          "output_type": "stream",
          "name": "stdout",
          "text": [
            "--- Prompt 1: Removing duplicate order entries ---\n",
            "Original row count: 5500\n",
            "Cleaned row count: 4982\n",
            "\n",
            "==================================================\n",
            "\n"
          ]
        }
      ]
    },
    {
      "cell_type": "markdown",
      "source": [
        "**Fill missing Customer Ratings with the average rating for the respective product category**"
      ],
      "metadata": {
        "id": "66x0OD1wVDuY"
      }
    },
    {
      "cell_type": "code",
      "source": [
        "print(\"--- Prompt 2: Filling missing Customer Ratings with category average ---\")\n",
        "# Using a correlated subquery to fill NULLs\n",
        "query_2 = \"\"\"\n",
        "UPDATE orders_cleaned\n",
        "SET CustomerRating = (\n",
        "    SELECT AVG(T2.CustomerRating)\n",
        "    FROM orders_cleaned AS T2\n",
        "    WHERE T2.ProductCategory = orders_cleaned.ProductCategory\n",
        ")\n",
        "WHERE CustomerRating IS NULL;\n",
        "\"\"\"\n",
        "conn.execute(query_2)\n",
        "conn.commit()\n",
        "df_2 = pd.read_sql_query('SELECT ProductCategory, CustomerRating FROM orders_cleaned WHERE OrderStatus = \"Delivered\" LIMIT 10;', conn)\n",
        "print(df_2)\n",
        "print(\"\\n\" + \"=\"*50 + \"\\n\")"
      ],
      "metadata": {
        "colab": {
          "base_uri": "https://localhost:8080/"
        },
        "id": "qeAWvh2MVGU4",
        "outputId": "4ab0fe71-f76b-45ff-c881-797fed8f0903"
      },
      "execution_count": 6,
      "outputs": [
        {
          "output_type": "stream",
          "name": "stdout",
          "text": [
            "--- Prompt 2: Filling missing Customer Ratings with category average ---\n",
            "  ProductCategory  CustomerRating\n",
            "0           Books             2.7\n",
            "1            Toys             3.4\n",
            "2           Books             3.8\n",
            "3  Home & Kitchen             1.5\n",
            "4     Electronics             4.9\n",
            "5          Beauty             1.5\n",
            "6            Toys             2.3\n",
            "7     Electronics             4.3\n",
            "8           Books             2.4\n",
            "9           Books             3.3\n",
            "\n",
            "==================================================\n",
            "\n"
          ]
        }
      ]
    },
    {
      "cell_type": "markdown",
      "source": [
        "**Standardize Payment Method values to a consistent case**"
      ],
      "metadata": {
        "id": "J0XlwViaVKAC"
      }
    },
    {
      "cell_type": "code",
      "source": [
        "print(\"--- Prompt 3: Standardizing Payment Method values ---\")\n",
        "query_3 = \"\"\"\n",
        "UPDATE orders_cleaned\n",
        "SET PaymentMethod = INITCAP(TRIM(PaymentMethod));\n",
        "\"\"\"\n",
        "# SQLite doesn't have INITCAP, so we use a combination of UPPER and LOWER\n",
        "query_3_sqlite = \"\"\"\n",
        "UPDATE orders_cleaned\n",
        "SET PaymentMethod = UPPER(SUBSTR(TRIM(PaymentMethod), 1, 1)) || LOWER(SUBSTR(TRIM(PaymentMethod), 2));\n",
        "\"\"\"\n",
        "conn.execute(query_3_sqlite)\n",
        "conn.commit()\n",
        "df_3 = pd.read_sql_query('SELECT DISTINCT PaymentMethod FROM orders_cleaned;', conn)\n",
        "print(df_3)\n",
        "print(\"\\n\" + \"=\"*50 + \"\\n\")"
      ],
      "metadata": {
        "colab": {
          "base_uri": "https://localhost:8080/"
        },
        "id": "oBC4edpeVMrZ",
        "outputId": "619a6c58-4770-4e77-db75-3bfb646ca59a"
      },
      "execution_count": 7,
      "outputs": [
        {
          "output_type": "stream",
          "name": "stdout",
          "text": [
            "--- Prompt 3: Standardizing Payment Method values ---\n",
            "   PaymentMethod\n",
            "0    Credit card\n",
            "1  Bank transfer\n",
            "2           None\n",
            "3     Debit card\n",
            "4         Paypal\n",
            "5      Gift card\n",
            "\n",
            "==================================================\n",
            "\n"
          ]
        }
      ]
    },
    {
      "cell_type": "markdown",
      "source": [
        "**Create a new column 'OrderYearMonth' from the 'OrderDate' field**"
      ],
      "metadata": {
        "id": "VSOf6EU0VQuB"
      }
    },
    {
      "cell_type": "code",
      "source": [
        "print(\"--- Prompt 4: Creating an 'OrderYearMonth' column ---\")\n",
        "query_4 = \"\"\"\n",
        "ALTER TABLE orders_cleaned ADD COLUMN OrderYearMonth TEXT;\n",
        "UPDATE orders_cleaned\n",
        "SET OrderYearMonth = STRFTIME('%Y-%m', OrderDate);\n",
        "\"\"\"\n",
        "# Running commands one by one\n",
        "conn.execute(\"ALTER TABLE orders_cleaned ADD COLUMN OrderYearMonth TEXT;\")\n",
        "conn.execute(\"UPDATE orders_cleaned SET OrderYearMonth = STRFTIME('%Y-%m', OrderDate);\")\n",
        "conn.commit()\n",
        "df_4 = pd.read_sql_query('SELECT OrderDate, OrderYearMonth FROM orders_cleaned LIMIT 5;', conn)\n",
        "print(df_4)\n",
        "print(\"\\n\" + \"=\"*50 + \"\\n\")"
      ],
      "metadata": {
        "colab": {
          "base_uri": "https://localhost:8080/"
        },
        "id": "1VC_uG0gVSo5",
        "outputId": "90f0d9f8-7821-489d-8f59-bc4f1fefd168"
      },
      "execution_count": 8,
      "outputs": [
        {
          "output_type": "stream",
          "name": "stdout",
          "text": [
            "--- Prompt 4: Creating an 'OrderYearMonth' column ---\n",
            "    OrderDate OrderYearMonth\n",
            "0  2023-09-01        2023-09\n",
            "1  2025-07-22        2025-07\n",
            "2  2025-07-28        2025-07\n",
            "3  2025-06-01        2025-06\n",
            "4  2024-06-02        2024-06\n",
            "\n",
            "==================================================\n",
            "\n"
          ]
        }
      ]
    },
    {
      "cell_type": "markdown",
      "source": [
        "**Count the number of orders for each Product Category**"
      ],
      "metadata": {
        "id": "3BYbhg-sVWyY"
      }
    },
    {
      "cell_type": "code",
      "source": [
        "print(\"--- Prompt 5: Number of orders per Product Category ---\")\n",
        "query_5 = \"\"\"\n",
        "SELECT ProductCategory, COUNT(OrderID) AS num_orders\n",
        "FROM orders_cleaned\n",
        "GROUP BY ProductCategory\n",
        "ORDER BY num_orders DESC;\n",
        "\"\"\"\n",
        "df_5 = pd.read_sql_query(query_5, conn)\n",
        "print(df_5)\n",
        "print(\"\\n\" + \"=\"*50 + \"\\n\")"
      ],
      "metadata": {
        "colab": {
          "base_uri": "https://localhost:8080/"
        },
        "id": "NXln6BE3VXmh",
        "outputId": "c60df69e-b5a5-4078-d481-a7bc4504776d"
      },
      "execution_count": 9,
      "outputs": [
        {
          "output_type": "stream",
          "name": "stdout",
          "text": [
            "--- Prompt 5: Number of orders per Product Category ---\n",
            "  ProductCategory  num_orders\n",
            "0            Toys         914\n",
            "1     Electronics         912\n",
            "2          Sports         870\n",
            "3           Books         728\n",
            "4  Home & Kitchen         566\n",
            "5          Beauty         504\n",
            "6        Clothing         488\n",
            "\n",
            "==================================================\n",
            "\n"
          ]
        }
      ]
    },
    {
      "cell_type": "markdown",
      "source": [
        "**Calculate the total revenue generated by each Payment Method**"
      ],
      "metadata": {
        "id": "4w0y99pkVa3x"
      }
    },
    {
      "cell_type": "code",
      "source": [
        "print(\"--- Prompt 6: Total revenue by Payment Method ---\")\n",
        "query_6 = \"\"\"\n",
        "SELECT PaymentMethod, SUM(TotalAmount) AS total_revenue\n",
        "FROM orders_cleaned\n",
        "WHERE OrderStatus = 'Delivered'\n",
        "GROUP BY PaymentMethod\n",
        "ORDER BY total_revenue DESC;\n",
        "\"\"\"\n",
        "df_6 = pd.read_sql_query(query_6, conn)\n",
        "print(df_6)\n",
        "print(\"\\n\" + \"=\"*50 + \"\\n\")"
      ],
      "metadata": {
        "colab": {
          "base_uri": "https://localhost:8080/"
        },
        "id": "sBv74fMkVdBR",
        "outputId": "11826d30-e6a5-4477-e57f-9f0aa59aa83b"
      },
      "execution_count": 10,
      "outputs": [
        {
          "output_type": "stream",
          "name": "stdout",
          "text": [
            "--- Prompt 6: Total revenue by Payment Method ---\n",
            "   PaymentMethod  total_revenue\n",
            "0    Credit card      220763.92\n",
            "1         Paypal      202742.58\n",
            "2      Gift card      119642.65\n",
            "3     Debit card      117445.60\n",
            "4  Bank transfer      112821.05\n",
            "\n",
            "==================================================\n",
            "\n"
          ]
        }
      ]
    },
    {
      "cell_type": "markdown",
      "source": [
        "**Find the top 5 best-selling products by quantity sold**"
      ],
      "metadata": {
        "id": "6NzEeYo0VgDB"
      }
    },
    {
      "cell_type": "code",
      "source": [
        "print(\"--- Prompt 7: Top 5 best-selling products by quantity ---\")\n",
        "query_7 = \"\"\"\n",
        "SELECT ProductID, SUM(Quantity) AS total_quantity_sold\n",
        "FROM orders_cleaned\n",
        "WHERE OrderStatus IN ('Delivered', 'Shipped')\n",
        "GROUP BY ProductID\n",
        "ORDER BY total_quantity_sold DESC\n",
        "LIMIT 5;\n",
        "\"\"\"\n",
        "df_7 = pd.read_sql_query(query_7, conn)\n",
        "print(df_7)\n",
        "print(\"\\n\" + \"=\"*50 + \"\\n\")"
      ],
      "metadata": {
        "colab": {
          "base_uri": "https://localhost:8080/"
        },
        "id": "WvJij5twVhTZ",
        "outputId": "e859c614-5ea0-488b-cbee-a002ad469aa6"
      },
      "execution_count": 11,
      "outputs": [
        {
          "output_type": "stream",
          "name": "stdout",
          "text": [
            "--- Prompt 7: Top 5 best-selling products by quantity ---\n",
            "  ProductID  total_quantity_sold\n",
            "0   PID1633                   61\n",
            "1   PID1800                   56\n",
            "2   PID9371                   54\n",
            "3   PID8143                   53\n",
            "4   PID5069                   53\n",
            "\n",
            "==================================================\n",
            "\n"
          ]
        }
      ]
    },
    {
      "cell_type": "markdown",
      "source": [
        "**Compare the average customer rating for each shipping method**"
      ],
      "metadata": {
        "id": "aQaUpzMTVlrx"
      }
    },
    {
      "cell_type": "code",
      "source": [
        "print(\"--- Prompt 8: Average customer rating by shipping method ---\")\n",
        "query_8 = \"\"\"\n",
        "SELECT ShippingMethod, AVG(CustomerRating) AS avg_rating\n",
        "FROM orders_cleaned\n",
        "WHERE OrderStatus = 'Delivered'\n",
        "GROUP BY ShippingMethod\n",
        "ORDER BY avg_rating DESC;\n",
        "\"\"\"\n",
        "df_8 = pd.read_sql_query(query_8, conn)\n",
        "print(df_8)\n",
        "print(\"\\n\" + \"=\"*50 + \"\\n\")"
      ],
      "metadata": {
        "colab": {
          "base_uri": "https://localhost:8080/"
        },
        "id": "27DrZsofVm8R",
        "outputId": "5c3158c7-153b-4c0e-b004-e6df625a878f"
      },
      "execution_count": 12,
      "outputs": [
        {
          "output_type": "stream",
          "name": "stdout",
          "text": [
            "--- Prompt 8: Average customer rating by shipping method ---\n",
            "  ShippingMethod  avg_rating\n",
            "0       Next-Day    2.972754\n",
            "1       Standard    2.966771\n",
            "2        Express    2.962154\n",
            "\n",
            "==================================================\n",
            "\n"
          ]
        }
      ]
    },
    {
      "cell_type": "markdown",
      "source": [
        "**Identify the month with the highest number of cancelled orders**"
      ],
      "metadata": {
        "id": "0MrJB2WZVqLx"
      }
    },
    {
      "cell_type": "code",
      "source": [
        "print(\"--- Prompt 9: Month with the most cancelled orders ---\")\n",
        "query_9 = \"\"\"\n",
        "SELECT OrderYearMonth, COUNT(OrderID) AS cancelled_orders\n",
        "FROM orders_cleaned\n",
        "WHERE OrderStatus = 'Cancelled'\n",
        "GROUP BY OrderYearMonth\n",
        "ORDER BY cancelled_orders DESC\n",
        "LIMIT 1;\n",
        "\"\"\"\n",
        "df_9 = pd.read_sql_query(query_9, conn)\n",
        "print(df_9)\n",
        "print(\"\\n\" + \"=\"*50 + \"\\n\")"
      ],
      "metadata": {
        "colab": {
          "base_uri": "https://localhost:8080/"
        },
        "id": "FexCaTT1VsAZ",
        "outputId": "9045e798-bce2-44da-af44-d14469dcf7d3"
      },
      "execution_count": 13,
      "outputs": [
        {
          "output_type": "stream",
          "name": "stdout",
          "text": [
            "--- Prompt 9: Month with the most cancelled orders ---\n",
            "  OrderYearMonth  cancelled_orders\n",
            "0        2024-02                53\n",
            "\n",
            "==================================================\n",
            "\n"
          ]
        }
      ]
    },
    {
      "cell_type": "markdown",
      "source": [
        "**Calculate the average number of days between order date and shipping date**"
      ],
      "metadata": {
        "id": "vC1tdpPTVwva"
      }
    },
    {
      "cell_type": "code",
      "source": [
        "print(\"--- Prompt 10: Average shipping time ---\")\n",
        "query_10 = \"\"\"\n",
        "SELECT AVG(JULIANDAY(ShippingDate) - JULIANDAY(OrderDate)) AS avg_days_to_ship\n",
        "FROM orders_cleaned\n",
        "WHERE ShippingDate IS NOT NULL;\n",
        "\"\"\"\n",
        "df_10 = pd.read_sql_query(query_10, conn)\n",
        "print(df_10)\n",
        "print(\"\\n\" + \"=\"*50 + \"\\n\")"
      ],
      "metadata": {
        "colab": {
          "base_uri": "https://localhost:8080/"
        },
        "id": "FvbM9Ib3Vy4Z",
        "outputId": "e7a2dd3e-d4e0-4dfb-a192-4a32371e9403"
      },
      "execution_count": 14,
      "outputs": [
        {
          "output_type": "stream",
          "name": "stdout",
          "text": [
            "--- Prompt 10: Average shipping time ---\n",
            "   avg_days_to_ship\n",
            "0          2.009734\n",
            "\n",
            "==================================================\n",
            "\n"
          ]
        }
      ]
    },
    {
      "cell_type": "markdown",
      "source": [
        "**Find the most frequent reason for order cancellations**"
      ],
      "metadata": {
        "id": "ppKhsH4XV2lS"
      }
    },
    {
      "cell_type": "code",
      "source": [
        "print(\"--- Prompt 11: Most frequent order cancellation reason ---\")\n",
        "query_11 = \"\"\"\n",
        "SELECT CancellationReason, COUNT(*) AS reason_count\n",
        "FROM orders_cleaned\n",
        "WHERE CancellationReason IS NOT NULL\n",
        "GROUP BY CancellationReason\n",
        "ORDER BY reason_count DESC\n",
        "LIMIT 1;\n",
        "\"\"\"\n",
        "df_11 = pd.read_sql_query(query_11, conn)\n",
        "print(df_11)\n",
        "print(\"\\n\" + \"=\"*50 + \"\\n\")"
      ],
      "metadata": {
        "colab": {
          "base_uri": "https://localhost:8080/"
        },
        "id": "qHfpSR2BV8Ya",
        "outputId": "9cca6dd5-406a-4aca-c90d-32a887a53b59"
      },
      "execution_count": 15,
      "outputs": [
        {
          "output_type": "stream",
          "name": "stdout",
          "text": [
            "--- Prompt 11: Most frequent order cancellation reason ---\n",
            "  CancellationReason  reason_count\n",
            "0     Fraud detected           226\n",
            "\n",
            "==================================================\n",
            "\n"
          ]
        }
      ]
    },
    {
      "cell_type": "markdown",
      "source": [
        "**Calculate the percentage of total orders that have been returned**"
      ],
      "metadata": {
        "id": "-GKJU6_VWA-J"
      }
    },
    {
      "cell_type": "code",
      "source": [
        "print(\"--- Prompt 12: Percentage of returned orders ---\")\n",
        "query_12 = \"\"\"\n",
        "SELECT\n",
        "    (SUM(CASE WHEN OrderStatus = 'Returned' THEN 1 ELSE 0 END) * 100.0 / COUNT(*)) AS return_rate_percentage\n",
        "FROM orders_cleaned;\n",
        "\"\"\"\n",
        "df_12 = pd.read_sql_query(query_12, conn)\n",
        "print(df_12)\n",
        "print(\"\\n\" + \"=\"*50 + \"\\n\")"
      ],
      "metadata": {
        "colab": {
          "base_uri": "https://localhost:8080/"
        },
        "id": "d0KTDKZqWAmx",
        "outputId": "a4624078-6de7-4b53-c785-ee70ef3ba7f7"
      },
      "execution_count": 16,
      "outputs": [
        {
          "output_type": "stream",
          "name": "stdout",
          "text": [
            "--- Prompt 12: Percentage of returned orders ---\n",
            "   return_rate_percentage\n",
            "0               20.634283\n",
            "\n",
            "==================================================\n",
            "\n"
          ]
        }
      ]
    },
    {
      "cell_type": "markdown",
      "source": [
        "**Compute the monthly revenue trend (total sales per month)**"
      ],
      "metadata": {
        "id": "S1--CyKhWFGJ"
      }
    },
    {
      "cell_type": "code",
      "source": [
        "print(\"--- Prompt 13: Monthly revenue trend ---\")\n",
        "query_13 = \"\"\"\n",
        "SELECT OrderYearMonth, SUM(TotalAmount) AS monthly_revenue\n",
        "FROM orders_cleaned\n",
        "WHERE OrderStatus = 'Delivered'\n",
        "GROUP BY OrderYearMonth\n",
        "ORDER BY OrderYearMonth;\n",
        "\"\"\"\n",
        "df_13 = pd.read_sql_query(query_13, conn)\n",
        "print(df_13)\n",
        "print(\"\\n\" + \"=\"*50 + \"\\n\")"
      ],
      "metadata": {
        "colab": {
          "base_uri": "https://localhost:8080/"
        },
        "id": "PGcm0HnfWHfC",
        "outputId": "53eec9af-0480-429f-dcc5-4c079b42567c"
      },
      "execution_count": 17,
      "outputs": [
        {
          "output_type": "stream",
          "name": "stdout",
          "text": [
            "--- Prompt 13: Monthly revenue trend ---\n",
            "   OrderYearMonth  monthly_revenue\n",
            "0         2023-08          8258.62\n",
            "1         2023-09         33146.13\n",
            "2         2023-10         43075.68\n",
            "3         2023-11         25896.09\n",
            "4         2023-12         40389.47\n",
            "5         2024-01         34445.94\n",
            "6         2024-02         25543.14\n",
            "7         2024-03         27018.44\n",
            "8         2024-04         33320.30\n",
            "9         2024-05         32354.29\n",
            "10        2024-06         34351.00\n",
            "11        2024-07         22246.00\n",
            "12        2024-08         22551.03\n",
            "13        2024-09         38562.52\n",
            "14        2024-10         39084.58\n",
            "15        2024-11         39328.87\n",
            "16        2024-12         41504.14\n",
            "17        2025-01         30874.72\n",
            "18        2025-02         26385.52\n",
            "19        2025-03         29347.17\n",
            "20        2025-04         26543.08\n",
            "21        2025-05         42384.22\n",
            "22        2025-06         23482.55\n",
            "23        2025-07         25049.74\n",
            "24        2025-08         28272.56\n",
            "\n",
            "==================================================\n",
            "\n"
          ]
        }
      ]
    },
    {
      "cell_type": "markdown",
      "source": [
        "**Identify the top 5 customers with the highest number of orders**"
      ],
      "metadata": {
        "id": "P54LtYU9WK2Z"
      }
    },
    {
      "cell_type": "code",
      "source": [
        "print(\"--- Prompt 14: Top 5 customers by order count ---\")\n",
        "query_14 = \"\"\"\n",
        "SELECT CustomerID, COUNT(OrderID) AS order_count\n",
        "FROM orders_cleaned\n",
        "GROUP BY CustomerID\n",
        "ORDER BY order_count DESC\n",
        "LIMIT 5;\n",
        "\"\"\"\n",
        "df_14 = pd.read_sql_query(query_14, conn)\n",
        "print(df_14)\n",
        "print(\"\\n\" + \"=\"*50 + \"\\n\")"
      ],
      "metadata": {
        "colab": {
          "base_uri": "https://localhost:8080/"
        },
        "id": "Y5C88yKlWL2p",
        "outputId": "b9cb050b-2114-44c9-fb68-74097412e91f"
      },
      "execution_count": 18,
      "outputs": [
        {
          "output_type": "stream",
          "name": "stdout",
          "text": [
            "--- Prompt 14: Top 5 customers by order count ---\n",
            "  CustomerID  order_count\n",
            "0    CUS6902            5\n",
            "1    CUS4519            5\n",
            "2    CUS3907            5\n",
            "3    CUS9734            4\n",
            "4    CUS9067            4\n",
            "\n",
            "==================================================\n",
            "\n"
          ]
        }
      ]
    },
    {
      "cell_type": "markdown",
      "source": [
        "**Find the product category with the highest average product price**"
      ],
      "metadata": {
        "id": "Dxrwb3Z6WQOh"
      }
    },
    {
      "cell_type": "code",
      "source": [
        "print(\"--- Prompt 15: Product category with the highest average price ---\")\n",
        "query_15 = \"\"\"\n",
        "SELECT ProductCategory, AVG(ProductPrice) AS avg_price\n",
        "FROM orders_cleaned\n",
        "GROUP BY ProductCategory\n",
        "ORDER BY avg_price DESC\n",
        "LIMIT 1;\n",
        "\"\"\"\n",
        "df_15 = pd.read_sql_query(query_15, conn)\n",
        "print(df_15)\n",
        "print(\"\\n\" + \"=\"*50 + \"\\n\")"
      ],
      "metadata": {
        "colab": {
          "base_uri": "https://localhost:8080/"
        },
        "id": "cFX9QI_NWRTh",
        "outputId": "5bd393a3-57b0-4934-93fb-c84a2bcda8b8"
      },
      "execution_count": 19,
      "outputs": [
        {
          "output_type": "stream",
          "name": "stdout",
          "text": [
            "--- Prompt 15: Product category with the highest average price ---\n",
            "  ProductCategory   avg_price\n",
            "0  Home & Kitchen  281.194134\n",
            "\n",
            "==================================================\n",
            "\n"
          ]
        }
      ]
    },
    {
      "cell_type": "markdown",
      "source": [
        "**Determine the percentage of orders for each shipping method**"
      ],
      "metadata": {
        "id": "DSJVSzwtWVq5"
      }
    },
    {
      "cell_type": "code",
      "source": [
        "print(\"--- Prompt 16: Percentage of orders per shipping method ---\")\n",
        "query_16 = \"\"\"\n",
        "SELECT ShippingMethod, COUNT(OrderID) * 100.0 / (SELECT COUNT(*) FROM orders_cleaned) AS percentage\n",
        "FROM orders_cleaned\n",
        "GROUP BY ShippingMethod\n",
        "ORDER BY percentage DESC;\n",
        "\"\"\"\n",
        "df_16 = pd.read_sql_query(query_16, conn)\n",
        "print(df_16)\n",
        "print(\"\\n\" + \"=\"*50 + \"\\n\")"
      ],
      "metadata": {
        "colab": {
          "base_uri": "https://localhost:8080/"
        },
        "id": "FZNko9UNWWpp",
        "outputId": "cdd4c32d-4c7e-408b-f7f1-5fd3ee097988"
      },
      "execution_count": 20,
      "outputs": [
        {
          "output_type": "stream",
          "name": "stdout",
          "text": [
            "--- Prompt 16: Percentage of orders per shipping method ---\n",
            "  ShippingMethod  percentage\n",
            "0       Next-Day   34.022481\n",
            "1        Express   33.239663\n",
            "2       Standard   32.737856\n",
            "\n",
            "==================================================\n",
            "\n"
          ]
        }
      ]
    },
    {
      "cell_type": "markdown",
      "source": [
        "**Calculate the average order value (AOV) for each product category**"
      ],
      "metadata": {
        "id": "gFQ8Ly0oWajx"
      }
    },
    {
      "cell_type": "code",
      "source": [
        "print(\"--- Prompt 17: Average order value by category ---\")\n",
        "query_17 = \"\"\"\n",
        "SELECT ProductCategory, AVG(TotalAmount) as average_order_value\n",
        "FROM orders_cleaned\n",
        "GROUP BY ProductCategory\n",
        "ORDER BY average_order_value DESC;\n",
        "\"\"\"\n",
        "df_17 = pd.read_sql_query(query_17, conn)\n",
        "print(df_17)\n",
        "print(\"\\n\" + \"=\"*50 + \"\\n\")"
      ],
      "metadata": {
        "colab": {
          "base_uri": "https://localhost:8080/"
        },
        "id": "olpswpPiWd1R",
        "outputId": "c8bee4b5-e2c0-4238-bfe2-b760bb20d760"
      },
      "execution_count": 21,
      "outputs": [
        {
          "output_type": "stream",
          "name": "stdout",
          "text": [
            "--- Prompt 17: Average order value by category ---\n",
            "  ProductCategory  average_order_value\n",
            "0  Home & Kitchen           870.636961\n",
            "1     Electronics           832.348224\n",
            "2            Toys           823.756105\n",
            "3           Books           787.467225\n",
            "4        Clothing           785.042746\n",
            "5          Beauty           749.898155\n",
            "6          Sports           702.560115\n",
            "\n",
            "==================================================\n",
            "\n"
          ]
        }
      ]
    },
    {
      "cell_type": "markdown",
      "source": [
        "**List the top 3 customers who have returned the most orders**"
      ],
      "metadata": {
        "id": "4UDUm-YFWglh"
      }
    },
    {
      "cell_type": "code",
      "source": [
        "print(\"--- Prompt 18: Top 3 customers by returned orders ---\")\n",
        "query_18 = \"\"\"\n",
        "SELECT CustomerID, COUNT(OrderID) as returned_orders\n",
        "FROM orders_cleaned\n",
        "WHERE OrderStatus = 'Returned'\n",
        "GROUP BY CustomerID\n",
        "ORDER BY returned_orders DESC\n",
        "LIMIT 3;\n",
        "\"\"\"\n",
        "df_18 = pd.read_sql_query(query_18, conn)\n",
        "print(df_18)\n",
        "print(\"\\n\" + \"=\"*50 + \"\\n\")"
      ],
      "metadata": {
        "colab": {
          "base_uri": "https://localhost:8080/"
        },
        "id": "gJGgeaVfWjdx",
        "outputId": "4d7d9a88-680e-4569-afb9-978c897d6c2d"
      },
      "execution_count": 22,
      "outputs": [
        {
          "output_type": "stream",
          "name": "stdout",
          "text": [
            "--- Prompt 18: Top 3 customers by returned orders ---\n",
            "  CustomerID  returned_orders\n",
            "0    CUS9670                3\n",
            "1    CUS4525                3\n",
            "2    CUS1982                3\n",
            "\n",
            "==================================================\n",
            "\n"
          ]
        }
      ]
    },
    {
      "cell_type": "markdown",
      "source": [
        "**Find the total number of items sold for each order status**"
      ],
      "metadata": {
        "id": "6O5vl1SzWl6K"
      }
    },
    {
      "cell_type": "code",
      "source": [
        "print(\"--- Prompt 19: Total items sold by order status ---\")\n",
        "query_19 = \"\"\"\n",
        "SELECT OrderStatus, SUM(Quantity) as total_items\n",
        "FROM orders_cleaned\n",
        "GROUP BY OrderStatus\n",
        "ORDER BY total_items DESC;\n",
        "\"\"\"\n",
        "df_19 = pd.read_sql_query(query_19, conn)\n",
        "print(df_19)\n",
        "print(\"\\n\" + \"=\"*50 + \"\\n\")"
      ],
      "metadata": {
        "colab": {
          "base_uri": "https://localhost:8080/"
        },
        "id": "G-IRNBOOWoOC",
        "outputId": "3a265be5-1b84-4927-8a0e-1b01ff54aff1"
      },
      "execution_count": 23,
      "outputs": [
        {
          "output_type": "stream",
          "name": "stdout",
          "text": [
            "--- Prompt 19: Total items sold by order status ---\n",
            "  OrderStatus  total_items\n",
            "0    Returned         3065\n",
            "1  Processing         2988\n",
            "2     Shipped         2973\n",
            "3   Cancelled         2929\n",
            "4   Delivered         2926\n",
            "\n",
            "==================================================\n",
            "\n"
          ]
        }
      ]
    },
    {
      "cell_type": "markdown",
      "source": [
        "**Calculate the customer retention rate (simplified as customers who ordered more than once)**"
      ],
      "metadata": {
        "id": "aWWeWZ6KWqfB"
      }
    },
    {
      "cell_type": "code",
      "source": [
        "print(\"--- Prompt 20: Percentage of repeat customers ---\")\n",
        "query_20 = \"\"\"\n",
        "WITH CustomerOrderCounts AS (\n",
        "    SELECT CustomerID, COUNT(OrderID) as order_count\n",
        "    FROM orders_cleaned\n",
        "    GROUP BY CustomerID\n",
        ")\n",
        "SELECT\n",
        "    SUM(CASE WHEN order_count > 1 THEN 1 ELSE 0 END) * 100.0 / COUNT(CustomerID) AS repeat_customer_percentage\n",
        "FROM CustomerOrderCounts;\n",
        "\"\"\"\n",
        "df_20 = pd.read_sql_query(query_20, conn)\n",
        "print(df_20)\n",
        "print(\"\\n\" + \"=\"*50 + \"\\n\")"
      ],
      "metadata": {
        "colab": {
          "base_uri": "https://localhost:8080/"
        },
        "id": "xgmt68qSWtrx",
        "outputId": "95eeda6d-f491-4b65-ef3e-cef0acdf8f98"
      },
      "execution_count": 24,
      "outputs": [
        {
          "output_type": "stream",
          "name": "stdout",
          "text": [
            "--- Prompt 20: Percentage of repeat customers ---\n",
            "   repeat_customer_percentage\n",
            "0                   25.511274\n",
            "\n",
            "==================================================\n",
            "\n"
          ]
        }
      ]
    },
    {
      "cell_type": "markdown",
      "source": [
        "**Close the connection**"
      ],
      "metadata": {
        "id": "TIR9lGUFWwwB"
      }
    },
    {
      "cell_type": "code",
      "source": [
        "conn.close()"
      ],
      "metadata": {
        "id": "mvbItpTlWxbh"
      },
      "execution_count": null,
      "outputs": []
    }
  ]
}
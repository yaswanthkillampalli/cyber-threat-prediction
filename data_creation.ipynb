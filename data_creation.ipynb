{
  "nbformat": 4,
  "nbformat_minor": 0,
  "metadata": {
    "colab": {
      "provenance": [],
      "authorship_tag": "ABX9TyPsc9KOlzorHmOPPLz3U/YP",
      "include_colab_link": true
    },
    "kernelspec": {
      "name": "python3",
      "display_name": "Python 3"
    },
    "language_info": {
      "name": "python"
    }
  },
  "cells": [
    {
      "cell_type": "markdown",
      "metadata": {
        "id": "view-in-github",
        "colab_type": "text"
      },
      "source": [
        "<a href=\"https://colab.research.google.com/github/yaswanthkillampalli/cyber-threat-prediction/blob/main/data_creation.ipynb\" target=\"_parent\"><img src=\"https://colab.research.google.com/assets/colab-badge.svg\" alt=\"Open In Colab\"/></a>"
      ]
    },
    {
      "cell_type": "markdown",
      "source": [
        "**Installing faker**"
      ],
      "metadata": {
        "id": "wFobFEifQijg"
      }
    },
    {
      "cell_type": "code",
      "source": [
        "!pip install faker"
      ],
      "metadata": {
        "colab": {
          "base_uri": "https://localhost:8080/"
        },
        "id": "PWfgRKrPP554",
        "outputId": "fc54131e-c6b0-4322-d299-f5509efeb712"
      },
      "execution_count": null,
      "outputs": [
        {
          "output_type": "stream",
          "name": "stdout",
          "text": [
            "Requirement already satisfied: faker in /usr/local/lib/python3.12/dist-packages (37.5.3)\n",
            "Requirement already satisfied: tzdata in /usr/local/lib/python3.12/dist-packages (from faker) (2025.2)\n"
          ]
        }
      ]
    },
    {
      "cell_type": "markdown",
      "source": [
        "**Importing necessary modules**"
      ],
      "metadata": {
        "id": "A_MZWKrWQV7g"
      }
    },
    {
      "cell_type": "code",
      "execution_count": null,
      "metadata": {
        "id": "QV6T4X2kPvIT"
      },
      "outputs": [],
      "source": [
        "import pandas as pd\n",
        "import numpy as np\n",
        "from faker import Faker\n",
        "import random\n",
        "from datetime import datetime, timedelta"
      ]
    },
    {
      "cell_type": "markdown",
      "source": [
        "**Initialise Faker**"
      ],
      "metadata": {
        "id": "rYVV_5JmQV-A"
      }
    },
    {
      "cell_type": "code",
      "source": [
        "fake = Faker()"
      ],
      "metadata": {
        "id": "qEI8yyFTP4UX"
      },
      "execution_count": null,
      "outputs": []
    },
    {
      "cell_type": "markdown",
      "source": [
        "**Number of records to generate**"
      ],
      "metadata": {
        "id": "MHzYSrx_QWAg"
      }
    },
    {
      "cell_type": "code",
      "source": [
        "num_records = 100000"
      ],
      "metadata": {
        "id": "XstqYkdZP1Hx"
      },
      "execution_count": null,
      "outputs": []
    },
    {
      "cell_type": "markdown",
      "source": [
        "**Lists for categorical data**"
      ],
      "metadata": {
        "id": "Cm-1WUQ7QWDA"
      }
    },
    {
      "cell_type": "code",
      "source": [
        "order_statuses = [\"Delivered\", \"Shipped\", \"Processing\", \"Cancelled\", \"Returned\"]\n",
        "product_categories = [\"Electronics\", \"Clothing\", \"Home & Kitchen\", \"Books\", \"Sports\", \"Beauty\", \"Toys\"]\n",
        "payment_methods = [\"Credit Card\", \"PayPal\", \"Debit Card\", \"Gift Card\", \"Bank Transfer\", \"paypal\", \"credit card\"]\n",
        "shipping_methods = [\"Standard\", \"Express\", \"Next-Day\"]\n",
        "cancellation_reasons = [\"Out of stock\", \"Customer request\", \"Payment failed\", \"Fraud detected\", None]"
      ],
      "metadata": {
        "id": "plUl2Cw4QG6Q"
      },
      "execution_count": null,
      "outputs": []
    },
    {
      "cell_type": "markdown",
      "source": [
        "**Generate product data**"
      ],
      "metadata": {
        "id": "OagxBTxrQWFi"
      }
    },
    {
      "cell_type": "code",
      "source": [
        "products = {}\n",
        "for _ in range(200):\n",
        "    product_id = f\"PID{random.randint(1000, 9999)}\"\n",
        "    products[product_id] = {\n",
        "        \"category\": random.choice(product_categories),\n",
        "        \"price\": round(random.uniform(10, 500), 2)\n",
        "    }"
      ],
      "metadata": {
        "id": "zAed2psoRvOI"
      },
      "execution_count": null,
      "outputs": []
    },
    {
      "cell_type": "markdown",
      "source": [
        "**Generate Data**"
      ],
      "metadata": {
        "id": "orYUF78JRzsa"
      }
    },
    {
      "cell_type": "code",
      "source": [
        "data = []\n",
        "for _ in range(num_records):\n",
        "    order_id = f\"ORD{random.randint(100000, 999999)}\"\n",
        "    customer_id = f\"CUS{random.randint(1000, 9999)}\"\n",
        "    order_date_dt = fake.date_time_between(start_date='-2y', end_date='now')\n",
        "    order_date = order_date_dt.strftime('%Y-%m-%d')\n",
        "    order_time = order_date_dt.strftime('%H:%M:%S')\n",
        "\n",
        "    product_id = random.choice(list(products.keys()))\n",
        "    product_info = products[product_id]\n",
        "    quantity = random.randint(1, 5)\n",
        "    total_amount = round(product_info[\"price\"] * quantity, 2)\n",
        "\n",
        "    order_status = random.choice(order_statuses)\n",
        "    payment_method = random.choice(payment_methods) if order_status != \"Cancelled\" else None\n",
        "\n",
        "    # Add shipping date if applicable\n",
        "    if order_status in [\"Shipped\", \"Delivered\"]:\n",
        "        shipping_date = (order_date_dt + timedelta(days=random.randint(1, 3))).strftime('%Y-%m-%d')\n",
        "    else:\n",
        "        shipping_date = None\n",
        "\n",
        "    # Add cancellation reason if applicable\n",
        "    cancellation_reason = random.choice(cancellation_reasons) if order_status == \"Cancelled\" else None\n",
        "\n",
        "    customer_rating = round(random.uniform(1.0, 5.0), 1) if order_status == \"Delivered\" else np.nan\n",
        "\n",
        "    data.append({\n",
        "        \"OrderID\": order_id,\n",
        "        \"CustomerID\": customer_id,\n",
        "        \"ProductID\": product_id,\n",
        "        \"OrderDate\": order_date,\n",
        "        \"OrderTime\": order_time,\n",
        "        \"Quantity\": quantity,\n",
        "        \"ProductPrice\": product_info[\"price\"],\n",
        "        \"TotalAmount\": total_amount,\n",
        "        \"OrderStatus\": order_status,\n",
        "        \"PaymentMethod\": payment_method,\n",
        "        \"ShippingMethod\": random.choice(shipping_methods),\n",
        "        \"ShippingDate\": shipping_date,\n",
        "        \"ProductCategory\": product_info[\"category\"],\n",
        "        \"CustomerRating\": customer_rating,\n",
        "        \"CancellationReason\": cancellation_reason,\n",
        "    })\n"
      ],
      "metadata": {
        "id": "bD_bhjGwR1VA"
      },
      "execution_count": null,
      "outputs": []
    },
    {
      "cell_type": "markdown",
      "source": [
        "**Introduce some duplicates**"
      ],
      "metadata": {
        "id": "L-Am38vRST5w"
      }
    },
    {
      "cell_type": "code",
      "source": [
        "df = pd.DataFrame(data)\n",
        "duplicate_rows = df.sample(n=500)\n",
        "df = pd.concat([df, duplicate_rows]).reset_index(drop=True)\n",
        "\n",
        "df.to_csv(\"synthetic_ecommerce_orders.csv\", index=False)\n",
        "\n",
        "print(\"synthetic_ecommerce_orders.csv created successfully.\")"
      ],
      "metadata": {
        "colab": {
          "base_uri": "https://localhost:8080/"
        },
        "id": "_ICFV_M0R5qA",
        "outputId": "69ed719f-3372-459b-e8f2-60e00ba9ba64"
      },
      "execution_count": null,
      "outputs": [
        {
          "output_type": "stream",
          "name": "stdout",
          "text": [
            "synthetic_ecommerce_orders.csv created successfully.\n"
          ]
        }
      ]
    }
  ]
}
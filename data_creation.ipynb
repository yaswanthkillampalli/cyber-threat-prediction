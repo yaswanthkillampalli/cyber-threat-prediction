{
  "nbformat": 4,
  "nbformat_minor": 0,
  "metadata": {
    "colab": {
      "provenance": [],
      "authorship_tag": "ABX9TyNy+hz/pHWb3oLL0niENT62",
      "include_colab_link": true
    },
    "kernelspec": {
      "name": "python3",
      "display_name": "Python 3"
    },
    "language_info": {
      "name": "python"
    }
  },
  "cells": [
    {
      "cell_type": "markdown",
      "metadata": {
        "id": "view-in-github",
        "colab_type": "text"
      },
      "source": [
        "<a href=\"https://colab.research.google.com/github/yaswanthkillampalli/cyber-threat-prediction/blob/main/data_creation.ipynb\" target=\"_parent\"><img src=\"https://colab.research.google.com/assets/colab-badge.svg\" alt=\"Open In Colab\"/></a>"
      ]
    },
    {
      "cell_type": "markdown",
      "source": [
        "Installing faker"
      ],
      "metadata": {
        "id": "wFobFEifQijg"
      }
    },
    {
      "cell_type": "code",
      "source": [
        "!pip install faker"
      ],
      "metadata": {
        "colab": {
          "base_uri": "https://localhost:8080/"
        },
        "id": "PWfgRKrPP554",
        "outputId": "fc54131e-c6b0-4322-d299-f5509efeb712"
      },
      "execution_count": 9,
      "outputs": [
        {
          "output_type": "stream",
          "name": "stdout",
          "text": [
            "Requirement already satisfied: faker in /usr/local/lib/python3.12/dist-packages (37.5.3)\n",
            "Requirement already satisfied: tzdata in /usr/local/lib/python3.12/dist-packages (from faker) (2025.2)\n"
          ]
        }
      ]
    },
    {
      "cell_type": "markdown",
      "source": [
        "Importing necessary moodules"
      ],
      "metadata": {
        "id": "A_MZWKrWQV7g"
      }
    },
    {
      "cell_type": "code",
      "execution_count": 3,
      "metadata": {
        "id": "QV6T4X2kPvIT"
      },
      "outputs": [],
      "source": [
        "import pandas as pd\n",
        "import numpy as np\n",
        "from faker import Faker\n",
        "import random\n",
        "from datetime import datetime, timedelta"
      ]
    },
    {
      "cell_type": "markdown",
      "source": [
        "Initialize Faker"
      ],
      "metadata": {
        "id": "rYVV_5JmQV-A"
      }
    },
    {
      "cell_type": "code",
      "source": [
        "fake = Faker()"
      ],
      "metadata": {
        "id": "qEI8yyFTP4UX"
      },
      "execution_count": 4,
      "outputs": []
    },
    {
      "cell_type": "markdown",
      "source": [
        "Number of records to generate"
      ],
      "metadata": {
        "id": "MHzYSrx_QWAg"
      }
    },
    {
      "cell_type": "code",
      "source": [
        "num_records = 5000"
      ],
      "metadata": {
        "id": "XstqYkdZP1Hx"
      },
      "execution_count": 5,
      "outputs": []
    },
    {
      "cell_type": "markdown",
      "source": [
        "Lists for categorical data"
      ],
      "metadata": {
        "id": "Cm-1WUQ7QWDA"
      }
    },
    {
      "cell_type": "code",
      "source": [
        "booking_statuses = [\"Completed\", \"Cancelled by User\", \"Cancelled by Driver\", \"No Driver Found\", \"Incomplete\"]\n",
        "vehicle_types = [\"eBike\", \"Bike\", \"Auto\", \"Go Mini\", \"Go Sedan\", \"Premier Sedan\", \"Uber XL\"]\n",
        "pickup_locations = [fake.street_name() for _ in range(50)]\n",
        "drop_locations = [fake.street_name() for _ in range(50)]\n",
        "payment_methods = [\"UPI\", \"upi\", \"Upi\", \"Credit Card\", \"Debit Card\", \"Cash\", \"Uber Wallet\", \"credit card\", \"cash\"]\n",
        "cancellation_reasons_user = [\"Change of plans\", \"Wrong Address\", \"Driver asked to cancel\", \"Driver is not moving towards pickup location\", \"AC is not working\", None]\n",
        "cancellation_reasons_driver = [\"Customer related issue\", \"Vehicle Breakdown\", \"Personal emergency\", None]\n",
        "incomplete_reasons = [\"Vehicle Breakdown\", \"Route issue\", \"Customer request\", None]"
      ],
      "metadata": {
        "id": "plUl2Cw4QG6Q"
      },
      "execution_count": 6,
      "outputs": []
    },
    {
      "cell_type": "markdown",
      "source": [
        "Generate data"
      ],
      "metadata": {
        "id": "OagxBTxrQWFi"
      }
    },
    {
      "cell_type": "code",
      "source": [
        "data = []\n",
        "for _ in range(num_records):\n",
        "    booking_id = f\"CNR{random.randint(1000000, 9999999)}\"\n",
        "    customer_id = f\"CID{random.randint(1000000, 9999999)}\"\n",
        "    booking_status = random.choice(booking_statuses)\n",
        "\n",
        "    # Generate related data based on booking status\n",
        "    cancelled_by_driver = 1.0 if booking_status == \"Cancelled by Driver\" else 0.0\n",
        "    driver_cancellation_reason = random.choice(cancellation_reasons_driver) if cancelled_by_driver else None\n",
        "\n",
        "    cancelled_by_user = 1.0 if booking_status == \"Cancelled by User\" else 0.0\n",
        "    user_cancellation_reason = random.choice(cancellation_reasons_user) if cancelled_by_user else None\n",
        "\n",
        "    incomplete_rides = 1.0 if booking_status == \"Incomplete\" else 0.0\n",
        "    incomplete_rides_reason = random.choice(incomplete_reasons) if incomplete_rides else None\n",
        "\n",
        "    ride_distance = round(random.uniform(1, 50), 2) if booking_status == \"Completed\" else None\n",
        "    booking_value = round(ride_distance * random.uniform(10, 25)) if ride_distance else None\n",
        "\n",
        "    driver_rating = round(random.uniform(3.0, 5.0), 1) if booking_status == \"Completed\" else None\n",
        "    customer_rating = round(random.uniform(3.0, 5.0), 1) if booking_status == \"Completed\" else None\n",
        "\n",
        "    payment_method = random.choice(payment_methods) if booking_status == \"Completed\" else None\n",
        "\n",
        "    # Generate date and time\n",
        "    ride_date = fake.date_between(start_date='-1y', end_date='today').strftime('%Y-%m-%d')\n",
        "    ride_time = fake.time()\n",
        "\n",
        "    # Simulate missing values\n",
        "    avg_vtat = round(random.uniform(2, 15), 1) if random.random() > 0.1 else np.nan\n",
        "    avg_ctat = round(random.uniform(10, 40), 1) if random.random() > 0.1 else np.nan\n",
        "\n",
        "    data.append({\n",
        "        \"Date\": ride_date,\n",
        "        \"Time\": ride_time,\n",
        "        \"Booking ID\": booking_id,\n",
        "        \"Booking Status\": booking_status,\n",
        "        \"Customer ID\": customer_id,\n",
        "        \"Vehicle Type\": random.choice(vehicle_types),\n",
        "        \"Pickup Location\": random.choice(pickup_locations),\n",
        "        \"Drop Location\": random.choice(drop_locations),\n",
        "        \"Avg VTAT\": avg_vtat,\n",
        "        \"Avg CTAT\": avg_ctat,\n",
        "        \"Cancelled Rides by Customer\": cancelled_by_user,\n",
        "        \"Reason for cancelling by Customer\": user_cancellation_reason,\n",
        "        \"Cancelled Rides by Driver\": cancelled_by_driver,\n",
        "        \"Driver Cancellation Reason\": driver_cancellation_reason,\n",
        "        \"Incomplete Rides\": incomplete_rides,\n",
        "        \"Incomplete Rides Reason\": incomplete_rides_reason,\n",
        "        \"Booking Value\": booking_value,\n",
        "        \"Ride Distance\": ride_distance,\n",
        "        \"Driver Ratings\": driver_rating,\n",
        "        \"Customer Rating\": customer_rating,\n",
        "        \"Payment Method\": payment_method\n",
        "    })\n"
      ],
      "metadata": {
        "id": "7o_5Ks-VQHYi"
      },
      "execution_count": 7,
      "outputs": []
    },
    {
      "cell_type": "markdown",
      "source": [
        "Create DataFrame and save to CSV"
      ],
      "metadata": {
        "id": "zfJO-d7QQWH_"
      }
    },
    {
      "cell_type": "code",
      "source": [
        "df = pd.DataFrame(data)\n",
        "df.to_csv(\"synthetic_ride_bookings.csv\", index=False)\n",
        "\n",
        "print(\"synthetic_ride_bookings.csv created successfully.\")"
      ],
      "metadata": {
        "colab": {
          "base_uri": "https://localhost:8080/"
        },
        "id": "ZWxEgx-aQKxE",
        "outputId": "58406058-bc34-4a6a-f055-7f9a9a32dca1"
      },
      "execution_count": 8,
      "outputs": [
        {
          "output_type": "stream",
          "name": "stdout",
          "text": [
            "synthetic_ride_bookings.csv created successfully.\n"
          ]
        }
      ]
    }
  ]
}